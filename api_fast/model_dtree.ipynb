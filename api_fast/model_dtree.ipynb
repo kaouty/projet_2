{
 "cells": [
  {
   "cell_type": "code",
   "execution_count": 1,
   "id": "bac9b40d",
   "metadata": {},
   "outputs": [],
   "source": [
    "import pandas as pd\n",
    "import numpy as np \n",
    "import pickle\n",
    "from sklearn.model_selection import train_test_split\n",
    "from sklearn.preprocessing import StandardScaler\n",
    "from sklearn.tree import DecisionTreeClassifier\n",
    "from sklearn.linear_model import LogisticRegression\n",
    "from sklearn.model_selection import KFold\n",
    "from sklearn.neighbors import KNeighborsClassifier"
   ]
  },
  {
   "cell_type": "code",
   "execution_count": 2,
   "id": "4ebab171",
   "metadata": {},
   "outputs": [],
   "source": [
    "# A. Exploration et analyse de données\n",
    "#import churn dataset\n",
    "churn = pd.read_csv('churn.csv')\n",
    "\n",
    "#Vérifier les doublons\n",
    "churn.duplicated().sum()    \n",
    "#remplacer les valeurs vides par les nan\n",
    "churn = churn.replace(' ', np.nan)"
   ]
  },
  {
   "cell_type": "code",
   "execution_count": 3,
   "id": "5c7d28e1",
   "metadata": {},
   "outputs": [],
   "source": [
    "# B. Traitement de données\n",
    "\n",
    "#convertir TotalCharges en numérique\n",
    "churn[\"TotalCharges\"] = pd.to_numeric(churn[\"TotalCharges\"])\n",
    "\n",
    "#convertir SeniorCitizen to categoriel\n",
    "churn[\"SeniorCitizen\"] = churn[\"SeniorCitizen\"].astype(str)\n",
    "\n",
    "#on remplace les valeurs manquantes par la mediane \n",
    "churn['TotalCharges'] = churn['TotalCharges'].fillna(churn['TotalCharges'].median())\n",
    "\n",
    "#la variable  customerID ne va pas nous aider dans la prediction, on peut supprimer cette variable\n",
    "drop_columns = [\"customerID\"]\n",
    "churn.drop(drop_columns, axis = 1, inplace = True)"
   ]
  },
  {
   "cell_type": "code",
   "execution_count": 4,
   "id": "3dcef363",
   "metadata": {},
   "outputs": [
    {
     "data": {
      "text/plain": [
       "DecisionTreeClassifier()"
      ]
     },
     "execution_count": 4,
     "metadata": {},
     "output_type": "execute_result"
    }
   ],
   "source": [
    "# III. Entraînement et évaluation de modèles de machine learning\n",
    "# On sépare les variables explicatives de la target\n",
    "\n",
    "churn1 = churn.copy()\n",
    "X = churn1.drop([\"Churn\"], axis = 1)\n",
    "\n",
    "X = pd.get_dummies(X)\n",
    "y = churn1.Churn\n",
    "# Comme il ya un déséquilibre de classe, on va appliquer la cross-validation pour éviter oversampling\n",
    "\n",
    "X_train, X_test, y_train, y_test = train_test_split(X, y, test_size = 0.25, random_state=42)\n",
    "model = DecisionTreeClassifier(criterion = \"gini\")\n",
    "model.fit(X=X_train, y=y_train)"
   ]
  },
  {
   "cell_type": "code",
   "execution_count": 5,
   "id": "20dee3e2",
   "metadata": {},
   "outputs": [],
   "source": [
    "# save the model to disk\n",
    "\n",
    "filename = 'model_dtree.pkl'\n",
    "pickle.dump(model, open(filename, 'wb'))"
   ]
  },
  {
   "cell_type": "code",
   "execution_count": 6,
   "id": "c703fa4c",
   "metadata": {},
   "outputs": [
    {
     "data": {
      "text/plain": [
       "array(['Yes', 'Yes', 'No', ..., 'No', 'Yes', 'No'], dtype=object)"
      ]
     },
     "execution_count": 6,
     "metadata": {},
     "output_type": "execute_result"
    }
   ],
   "source": [
    "y_pred_test_dtree = model.predict(X_test)\n",
    "y_pred_test_dtree"
   ]
  }
 ],
 "metadata": {
  "kernelspec": {
   "display_name": "Python 3 (ipykernel)",
   "language": "python",
   "name": "python3"
  },
  "language_info": {
   "codemirror_mode": {
    "name": "ipython",
    "version": 3
   },
   "file_extension": ".py",
   "mimetype": "text/x-python",
   "name": "python",
   "nbconvert_exporter": "python",
   "pygments_lexer": "ipython3",
   "version": "3.9.7"
  }
 },
 "nbformat": 4,
 "nbformat_minor": 5
}
