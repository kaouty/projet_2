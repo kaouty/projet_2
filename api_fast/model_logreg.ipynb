{
 "cells": [
  {
   "cell_type": "code",
   "execution_count": 23,
   "id": "7c2da9b7",
   "metadata": {},
   "outputs": [],
   "source": [
    "import pandas as pd\n",
    "import numpy as np \n",
    "import pickle\n",
    "from sklearn.model_selection import train_test_split\n",
    "from sklearn.preprocessing import StandardScaler\n",
    "from sklearn.tree import DecisionTreeClassifier\n",
    "from sklearn.linear_model import LogisticRegression\n",
    "from sklearn.model_selection import KFold\n",
    "from sklearn.neighbors import KNeighborsClassifier"
   ]
  },
  {
   "cell_type": "code",
   "execution_count": 24,
   "id": "35529eca",
   "metadata": {},
   "outputs": [],
   "source": [
    "\n",
    "# A. Exploration et analyse de données\n",
    "#import churn dataset\n",
    "churn = pd.read_csv('churn.csv')\n",
    "\n",
    "#Vérifier les doublons\n",
    "churn.duplicated().sum()    \n",
    "#remplacer les valeurs vides par les nan\n",
    "churn = churn.replace(' ', np.nan)"
   ]
  },
  {
   "cell_type": "code",
   "execution_count": 25,
   "id": "4ba8ed45",
   "metadata": {},
   "outputs": [],
   "source": [
    "# B. Traitement de données\n",
    "\n",
    "#convertir TotalCharges en numérique\n",
    "churn[\"TotalCharges\"] = pd.to_numeric(churn[\"TotalCharges\"])\n",
    "\n",
    "#convertir SeniorCitizen to categoriel\n",
    "churn[\"SeniorCitizen\"] = churn[\"SeniorCitizen\"].astype(str)\n",
    "\n",
    "#on remplace les valeurs manquantes par la mediane \n",
    "churn['TotalCharges'] = churn['TotalCharges'].fillna(churn['TotalCharges'].median())\n",
    "\n",
    "#la variable  customerID ne va pas nous aider dans la prediction, on peut supprimer cette variable\n",
    "drop_columns = [\"customerID\"]\n",
    "churn.drop(drop_columns, axis = 1, inplace = True)"
   ]
  },
  {
   "cell_type": "code",
   "execution_count": 26,
   "id": "041b8f39",
   "metadata": {},
   "outputs": [
    {
     "data": {
      "text/plain": [
       "LogisticRegression(max_iter=6000)"
      ]
     },
     "execution_count": 26,
     "metadata": {},
     "output_type": "execute_result"
    }
   ],
   "source": [
    "# III. Entraînement et évaluation de modèles de machine learning\n",
    "# On sépare les variables explicatives de la target\n",
    "\n",
    "churn1 = churn.copy()\n",
    "X = churn1.drop([\"Churn\"], axis = 1)\n",
    "\n",
    "X = pd.get_dummies(X)\n",
    "y = churn1.Churn\n",
    "# Comme il ya un déséquilibre de classe, on va appliquer la cross-validation pour éviter oversampling\n",
    "\n",
    "\n",
    "X_train, X_test, y_train, y_test = train_test_split(X, y, test_size = 0.25, random_state=42)\n",
    "\n",
    "model = LogisticRegression(solver='lbfgs', max_iter=6000)\n",
    "model.fit(X_train, y_train)\n"
   ]
  },
  {
   "cell_type": "code",
   "execution_count": 27,
   "id": "4cc03bc0",
   "metadata": {},
   "outputs": [],
   "source": [
    "# save the model to disk\n",
    "\n",
    "filename = 'model_logreg.pkl'\n",
    "pickle.dump(model, open(filename, 'wb'))"
   ]
  },
  {
   "cell_type": "code",
   "execution_count": 28,
   "id": "e7df29f8",
   "metadata": {},
   "outputs": [
    {
     "data": {
      "text/plain": [
       "array(['No', 'Yes', 'No', ..., 'No', 'Yes', 'No'], dtype=object)"
      ]
     },
     "execution_count": 28,
     "metadata": {},
     "output_type": "execute_result"
    }
   ],
   "source": [
    "y_pred_test_logreg = model.predict(X_test)\n",
    "y_pred_test_logreg"
   ]
  }
 ],
 "metadata": {
  "kernelspec": {
   "display_name": "Python 3 (ipykernel)",
   "language": "python",
   "name": "python3"
  },
  "language_info": {
   "codemirror_mode": {
    "name": "ipython",
    "version": 3
   },
   "file_extension": ".py",
   "mimetype": "text/x-python",
   "name": "python",
   "nbconvert_exporter": "python",
   "pygments_lexer": "ipython3",
   "version": "3.9.7"
  }
 },
 "nbformat": 4,
 "nbformat_minor": 5
}
